{
 "cells": [
  {
   "cell_type": "markdown",
   "metadata": {},
   "source": [
    "Title : Restaurant recommender system in İstanbul\n",
    "Problem background :\n",
    "İstanbul is the largest city in Turkey and like a bridge between for asia and europe. With a population of over 20 million.\n",
    "\n",
    "\n",
    "\n",
    "Suppose i travel and keep changing places very frequently. This is very hectic and plus i get to experience very different types of environment, of which i donot have much knowledge about. In such situation, food can be an important factor for decided how you rate your trips and plus also recommmending it to the people. Food can also attract people around to world to try it out if it were to be the best. In such scenarios, we need to find the right place, at reasonable cost, to serve us the best possible way. So there are few questions that must be addresed, such as :\n",
    "\n",
    "How many types of foods are available in the restaurant ?\n",
    "which is the most nearest to me with good rating ?\n",
    "How many \"similar\" restaurants are available near by me ?\n",
    "Do the \"similar\" restaurants cost more ? if so, what speciality do that have ?\n",
    "To address such question, XXYZ company's manager decides to allocate this project to me not just to find out solutions to the questions but also build a system that can help in recommending new places based on their rankings compared to the previously visited by me.\n",
    "\n",
    "Expectations from this recommender system is to get answer for the questions, and in such a way that it uncovers all the perspective of managing recommendations. It is sighted to show :\n",
    "\n",
    "What types of restaurants are present in a paeticular area ?\n",
    "where are the similar restaurant present based on a preference to particular food ?\n",
    "How do different restaurants rank with respect to my preferences ?"
   ]
  },
  {
   "cell_type": "markdown",
   "metadata": {},
   "source": [
    "Target audience :\n",
    "Target audiences for this project does not limit to a person who keeps travelling but everyone. People could simply decide to look for a similar restaurant all the time because they are addicted to a specific category of food. People who rarely use restaurants would prefer to have the most rated restaurants nearby them and all this could be easily handed by our recommender system. So target for this project is basically everyone who is exploring different places or similar places.\n",
    "\n",
    "Success rate :\n",
    "With restaurants evolving, new food categories emerge, hybrid food starts to be more popular, we need a system that could help us access vast number of food varieties. It is impossible for a person to ask each and everyone about their visit to a particular place and also not everyone remembers everything. On the other hand, Computers are good at remembering things, and with Machine learning to its peak, it high time technology will by our personal guidence and help us personally based on our likes and dislikes. So people would care about this project as their personal assistance and success rate could certainly increase with time."
   ]
  }
 ],
 "metadata": {
  "kernelspec": {
   "display_name": "Python 3",
   "language": "python",
   "name": "python3"
  },
  "language_info": {
   "codemirror_mode": {
    "name": "ipython",
    "version": 3
   },
   "file_extension": ".py",
   "mimetype": "text/x-python",
   "name": "python",
   "nbconvert_exporter": "python",
   "pygments_lexer": "ipython3",
   "version": "3.7.6"
  }
 },
 "nbformat": 4,
 "nbformat_minor": 4
}
